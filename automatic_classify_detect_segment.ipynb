{
 "cells": [
  {
   "cell_type": "markdown",
   "metadata": {},
   "source": [
    "# Automatic Classification & Detection of Bleeding and Non-Bleeding frames in Wireless Capsule Endoscopy Using Swin Transformer and RT-DETR\n",
    "This code classifies frames for bleeding and non-bleeding and, if it is classified as bleeding, it annotates bleeding regions with bounding boxes and labels. Swin Transformer model for classification and ONNX runtime for object detection was used."
   ]
  },
  {
   "cell_type": "markdown",
   "metadata": {},
   "source": [
    "## Importing Libraries"
   ]
  },
  {
   "cell_type": "code",
   "execution_count": 1,
   "metadata": {},
   "outputs": [],
   "source": [
    "import torch\n",
    "import os\n",
    "import cv2\n",
    "import onnxruntime as ort \n",
    "from PIL import Image, ImageDraw, ImageFont\n",
    "from torchvision.transforms import ToTensor\n",
    "from src.zoo.swin_transformer import SwinTransformer"
   ]
  },
  {
   "cell_type": "markdown",
   "metadata": {},
   "source": [
    "## Classification, Detection and Segmentation Pipeline"
   ]
  },
  {
   "cell_type": "code",
   "execution_count": 12,
   "metadata": {},
   "outputs": [
    {
     "name": "stdout",
     "output_type": "stream",
     "text": [
      "Image is bleeding and bounding box annotation is complete.\n"
     ]
    }
   ],
   "source": [
    "image_path = '/home/ee22s501/cvip/data_test/Test Dataset 2/A0336.png'\n",
    "model_path = '/home/ee22s501/cvip/code/save/model_classify_72.pth'\n",
    "file_name = '/home/ee22s501/cvip/code/save/model.onnx'\n",
    "save_path = '/home/ee22s501/cvip/code/save/figs'  \n",
    "\n",
    "device = torch.device(\"cuda\" if torch.cuda.is_available() else \"cpu\")\n",
    "\n",
    "# Define the Swin Transformer model configuration.\n",
    "swin_config = {\n",
    "    'img_size': 224,\n",
    "    'patch_size': 4,\n",
    "    'in_chans': 3,\n",
    "    'num_classes': 2,\n",
    "    'embed_dim': 96,\n",
    "    'depths': [2, 2, 6, 2],\n",
    "    'num_heads': [3, 6, 12, 24],\n",
    "    'window_size': 7,\n",
    "    'mlp_ratio': 4,\n",
    "    'stochastic_depth_prob': 0.2,\n",
    "}\n",
    "\n",
    "# Instantiate Swin Transformer model. \n",
    "model = SwinTransformer(img_size=swin_config['img_size'],\n",
    "                        patch_size=swin_config['patch_size'],\n",
    "                        in_chans=swin_config['in_chans'],\n",
    "                        num_classes=swin_config['num_classes'],\n",
    "                        embed_dim=swin_config['embed_dim'],\n",
    "                        depths=swin_config['depths'],\n",
    "                        num_heads=swin_config['num_heads'],\n",
    "                        window_size=swin_config['window_size'],\n",
    "                        mlp_ratio=swin_config['mlp_ratio'],\n",
    "                        qkv_bias=True,\n",
    "                        qk_scale=None,\n",
    "                        drop_rate=0.0,\n",
    "                        drop_path_rate=0.1,\n",
    "                        ape=False,\n",
    "                        patch_norm=True,\n",
    "                        use_checkpoint=False,\n",
    "                        fused_window_process=False).to(device)\n",
    "\n",
    "model.load_state_dict(torch.load(model_path))\n",
    "model.eval()\n",
    "\n",
    "# Define class names\n",
    "class_names = ['bleeding', 'non_bleeding']\n",
    "font = cv2.FONT_HERSHEY_SIMPLEX\n",
    "font_scale = 0.5\n",
    "font_color = (255, 255, 255)\n",
    "font_thickness = 1\n",
    "\n",
    "# Function to predict whether an image is bleeding or not\n",
    "def predict_image(image_path):\n",
    "    image = cv2.imread(image_path)\n",
    "    image_tensor = torch.tensor(image, dtype=torch.float32).permute(2, 0, 1).unsqueeze(0) / 255.0\n",
    "    image_tensor = image_tensor.to(device)\n",
    "    with torch.no_grad():\n",
    "        output = model(image_tensor)\n",
    "        _, predicted = torch.max(output.data, 1)\n",
    "    predicted_label = class_names[predicted.item()]\n",
    "\n",
    "    return predicted_label\n",
    "    \n",
    "# Predict the label for the input image.\n",
    "predicted_label = predict_image(image_path)\n",
    "\n",
    "\n",
    "# Check if the image is classified as bleeding\n",
    "if predicted_label == 'bleeding':\n",
    "    # Initialize ONNX inference session.\n",
    "    sess = ort.InferenceSession(file_name)\n",
    "\n",
    "    # Threshold for object detection confidence\n",
    "    thrh = 0.4\n",
    "\n",
    "    # Load a font for labeling\n",
    "    fnt = ImageFont.truetype(\"Pillow/Tests/fonts/FreeMonoBold.ttf\", 35)\n",
    "\n",
    "    # Load and preprocess the image\n",
    "    im = Image.open(image_path).convert('RGB')\n",
    "    im = im.resize((640, 640))\n",
    "    im_data = ToTensor()(im)[None]\n",
    "    size = torch.tensor([[640, 640]])\n",
    "\n",
    "    # Perform inference\n",
    "    output = sess.run(\n",
    "        output_names=['labels', 'boxes', 'scores'],\n",
    "        input_feed={'images': im_data.data.numpy(), \"orig_target_sizes\": size.data.numpy()}\n",
    "    )\n",
    "\n",
    "    labels, boxes, scores = output\n",
    "\n",
    "    # Create an annotated image\n",
    "    draw = ImageDraw.Draw(im)\n",
    "\n",
    "    for i in range(im_data.shape[0]):\n",
    "        scr = scores[i]\n",
    "        lab = labels[i][scr > thrh]\n",
    "        box = boxes[i][scr > thrh]\n",
    "\n",
    "        for j, b in enumerate(box):\n",
    "            label = lab[j]\n",
    "            confidence = scr[j]\n",
    "\n",
    "            if label == 1:\n",
    "                draw.rectangle(list(b), outline='blue', width=7)\n",
    "                draw.text((b[0], b[1]), text=f\"\\n \\n \\nBleeding \\n({confidence:.2f})\", font=fnt, fill='yellow', width=100)\n",
    "            else:\n",
    "                draw.rectangle(list(b), outline='blue', width=7)\n",
    "                draw.text((b[0], b[1]), text=f\"{label} ({confidence:.2f})\", font=fnt, fill='yellow', width=100)\n",
    "\n",
    "    # Resize and save the annotated image with the same name\n",
    "    im = im.resize((224, 224))\n",
    "    save_filename = os.path.join(save_path, os.path.basename(image_path))\n",
    "    im.save(save_filename)\n",
    "\n",
    "    print(\"Image is bleeding and bounding box annotation is complete.\")\n",
    "else:\n",
    "    print(\"The image is classified as non-bleeding.\")"
   ]
  }
 ],
 "metadata": {
  "kernelspec": {
   "display_name": "cvip",
   "language": "python",
   "name": "python3"
  },
  "language_info": {
   "codemirror_mode": {
    "name": "ipython",
    "version": 3
   },
   "file_extension": ".py",
   "mimetype": "text/x-python",
   "name": "python",
   "nbconvert_exporter": "python",
   "pygments_lexer": "ipython3",
   "version": "3.10.12"
  },
  "orig_nbformat": 4
 },
 "nbformat": 4,
 "nbformat_minor": 2
}
